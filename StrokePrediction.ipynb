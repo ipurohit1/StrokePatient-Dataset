{
  "nbformat": 4,
  "nbformat_minor": 0,
  "metadata": {
    "colab": {
      "name": "StrokePrediction.ipynb",
      "provenance": [],
      "collapsed_sections": [],
      "authorship_tag": "ABX9TyNzk/XvmVo/HA9ULLoHCyff"
    },
    "kernelspec": {
      "name": "python3",
      "display_name": "Python 3"
    }
  },
  "cells": [
    {
      "cell_type": "code",
      "metadata": {
        "id": "n2ckDZ2hT_6W"
      },
      "source": [
        "# imports \n",
        "import numpy as np \n",
        "import pandas as pd \n",
        "import matplotlib.pyplot as plt \n",
        "from IPython.display import clear_output \n",
        "\n",
        "from sklearn.model_selection import train_test_split\n",
        "import tensorflow as tf \n",
        "from tensorflow import feature_column "
      ],
      "execution_count": null,
      "outputs": []
    },
    {
      "cell_type": "code",
      "metadata": {
        "id": "z6TgHRj23eYo"
      },
      "source": [
        "# Load data\n",
        "df = pd.read_csv('.../')\n",
        "\n",
        "df.head()"
      ],
      "execution_count": null,
      "outputs": []
    },
    {
      "cell_type": "code",
      "metadata": {
        "id": "nuhgo_yk5B6f"
      },
      "source": [
        "# Observe data \n",
        "df.info()"
      ],
      "execution_count": null,
      "outputs": []
    }
  ]
}